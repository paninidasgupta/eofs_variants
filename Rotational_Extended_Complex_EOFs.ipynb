{
 "cells": [
  {
   "cell_type": "markdown",
   "metadata": {},
   "source": [
    "## Loading libraries"
   ]
  },
  {
   "cell_type": "code",
   "execution_count": 42,
   "metadata": {
    "ExecuteTime": {
     "end_time": "2019-07-18T06:37:20.171224Z",
     "start_time": "2019-07-18T06:37:20.163441Z"
    },
    "hide_input": false
   },
   "outputs": [],
   "source": [
    "import numpy as np\n",
    "import matplotlib.pyplot as plt\n",
    "from mpl_toolkits.axes_grid1 import make_axes_locatable\n",
    "import matplotlib.cm as cm\n",
    "from matplotlib import *\n",
    "import scipy\n",
    "from numpy import linalg as LA\n",
    "from sklearn.decomposition import PCA\n",
    "%matplotlib inline\n"
   ]
  },
  {
   "cell_type": "code",
   "execution_count": 27,
   "metadata": {
    "ExecuteTime": {
     "end_time": "2019-07-18T06:21:06.057764Z",
     "start_time": "2019-07-18T06:21:06.055710Z"
    },
    "hide_input": false
   },
   "outputs": [],
   "source": [
    "# # Fiddle with figure settings here:\n",
    "# plt.rcParams['figure.figsize'] = (10,8)\n",
    "# plt.rcParams['font.weight'] = 'bold'\n",
    "# plt.rcParams['font.size'] = 10\n",
    "# plt.rcParams['image.cmap'] = 'seismic'\n",
    "# plt.rcParams['axes.linewidth'] = 2\n",
    "# # Set the default colour cycle (in case someone changes it...)\n",
    "# from cycler import cycler\n",
    "# cols = plt.get_cmap('tab10').colors\n",
    "# plt.rcParams['axes.prop_cycle'] = cycler(color=cols)"
   ]
  },
  {
   "cell_type": "markdown",
   "metadata": {
    "hide_input": true
   },
   "source": [
    "## \"Guide to Emperical orthogonal Functions\" ##\n",
    "\n",
    "1 . EOF analysis using SVD\n",
    "2.  EOF analysis using Covariance matrix\n",
    "3.  Rotated EOF analysis\n",
    "\n"
   ]
  },
  {
   "cell_type": "markdown",
   "metadata": {},
   "source": [
    "## EOF analysis / Principal Component Analysis (PCA) through SVD"
   ]
  },
  {
   "cell_type": "code",
   "execution_count": 28,
   "metadata": {
    "ExecuteTime": {
     "end_time": "2019-07-18T06:21:06.569459Z",
     "start_time": "2019-07-18T06:21:06.554761Z"
    }
   },
   "outputs": [],
   "source": [
    "#********************************************************************************************************\n",
    "### Z= M X  N\n",
    "### where M is time steps\n",
    "### where N is Variables\n",
    "## PYTHON code\n",
    "\n",
    "def eoffast_svd(matrix,scale,plot):\n",
    "    # Compute all EOF of matrix  (MXN) and expand it for nmode modes\n",
    "    # Also returns nproj projection coefficients Z.T = N X M\n",
    "    ny           =  matrix.shape[0]\n",
    "    mat          =  np.matrix(matrix)\n",
    "    mean         =  mat.mean(0)\n",
    "    std          =  mat.std(0)\n",
    "    one          =  np.matrix(np.ones(ny,float))\n",
    "    mean_matrix  =  one.T*mean\n",
    "    std_matrix   =  one.T*std\n",
    "    anomaly11    =  mat-mean_matrix            ## Anomaly at each space points\n",
    "    anomaly22    =  anomaly11/std              ## standarized anomaly at each space points\n",
    "    \n",
    "    if scale:\n",
    "        z        =  anomaly22                  ## SVD on only anomaly matrix (not scaled)\n",
    "    else:\n",
    "        z        =  anomaly11\n",
    "            \n",
    "    uu, ss, vv   = np.linalg.svd(z.T)  ## uu(N X N) ss(N X N) vv(M X M)\n",
    "    ## Memory saving decomposition\n",
    "    lam1         = np.diag(np.square(ss))/np.sum(np.diag(np.square(ss))); #% Explained variances\n",
    "    lam          = np.diag(lam1)\n",
    "    ss1          = np.diag(ss)\n",
    "    vv1          = vv.T[:,0:z.shape[1]]\n",
    "    uu1          = uu[:,0:z.shape[1]]\n",
    "    proj         = np.matmul(vv.T[:,0:z.shape[1]],ss1) ## uu(N X N) ss(N X N) vv(M X M)\n",
    "    eofs         = uu1\n",
    "    pcs          = proj\n",
    "    if plot:\n",
    "        fig, axes = plt.subplots(nrows=3, ncols=3)\n",
    "\n",
    "        axes[0,0].imshow(matrix)\n",
    "        axes[0,0].title.set_text(\"%d(time) X %d (space)\" %(matrix.shape[0],matrix.shape[1]))\n",
    "\n",
    "        ## plot the uu ##\n",
    "        axes[0,1].imshow(uu)\n",
    "        axes[0,1].title.set_text(\"U (%d X %d) space\" %(uu.shape[0],uu.shape[1]))\n",
    "\n",
    "        ## plot the uu1 ##\n",
    "        axes[0,2].imshow(eofs)\n",
    "        axes[0,2].title.set_text(\"uu1 (space eofs) (%d X %d)\" %(eofs.shape[0],eofs.shape[1]))\n",
    "\n",
    "        ## plot the lam ##\n",
    "        axes[1,0].imshow(ss1)\n",
    "        axes[1,0].title.set_text(\"singular values(%d X %d)\" %(ss1.shape[0],ss1.shape[1]))\n",
    "\n",
    "        ## plot the vv\n",
    "        axes[1,1].imshow(vv)\n",
    "        axes[1,1].title.set_text(\"V (%d X %d) time\" %(vv.shape[0],vv.shape[1]))\n",
    "\n",
    "        ## plot the vv1\n",
    "        axes[1,2].imshow(pcs)\n",
    "        axes[1,2].title.set_text(\"PCs (%d X %d) \" %(pcs.shape[0],pcs.shape[1]))\n",
    "\n",
    "        ## plot POV ###\n",
    "        axes[2,0].bar(np.arange(lam.size),lam)\n",
    "        axes[2,0].title.set_text(\"POV \")\n",
    "\n",
    "        ## plot POV ###\n",
    "        axes[2,1].bar(np.arange(lam.size),np.squeeze(np.asarray(eofs[:,0])))\n",
    "        axes[2,1].title.set_text(\"EOF1 \")\n",
    "\n",
    "        ## plot POV ###\n",
    "        axes[2,2].plot(pcs[:,0])\n",
    "        axes[2,2].title.set_text(\"PC1 \") \n",
    "        \n",
    "    return eofs,lam,pcs,uu,ss1,vv,lam1"
   ]
  },
  {
   "cell_type": "markdown",
   "metadata": {},
   "source": [
    "## EOF analysis / Principal Component Analysis (PCA) through Covariance Matrix"
   ]
  },
  {
   "cell_type": "code",
   "execution_count": 31,
   "metadata": {
    "ExecuteTime": {
     "end_time": "2019-07-18T06:21:08.623365Z",
     "start_time": "2019-07-18T06:21:08.609200Z"
    }
   },
   "outputs": [],
   "source": [
    "def eof_wrap_cov(matrix,scale,plot):\n",
    "    \n",
    "    ny            =     matrix.shape[0]\n",
    "    mat           =     np.matrix(matrix)\n",
    "    mean          =     mat.mean(0)\n",
    "    std           =     mat.std(0)\n",
    "    one           =     np.matrix(np.ones(ny,float))\n",
    "    mean_matrix   =     one.T*mean\n",
    "    std_matrix    =     one.T*std\n",
    "    anomaly11     =     mat-mean_matrix\n",
    "    anomaly22     =     anomaly11/std\n",
    "    \n",
    "    if scale:\n",
    "        z         =  anomaly22                  ## SVD on only anomaly matrix (not scaled)\n",
    "    else:\n",
    "        z         =     anomaly11\n",
    "        \n",
    "    cov_matrix    =     z.T*z\n",
    "    D,V           =     LA.eig(cov_matrix)\n",
    "    varex         =     D/np.sum(D)\n",
    "    D1            =     np.diag(D)\n",
    "    varex_new     =     np.sort(varex)[::-1]\n",
    "    arg_new       =     np.argsort(varex)[::-1]\n",
    "    eofs          =     V[:,arg_new]\n",
    "    pcs          =      z*eofs\n",
    "\n",
    "\n",
    "    if plot:\n",
    "        fig, axes = plt.subplots(nrows=4, ncols=2)\n",
    "\n",
    "        axes[0,0].imshow(matrix)\n",
    "        axes[0,0].title.set_text(\"%d(time) X %d (space)\" %(matrix.shape[0],matrix.shape[1]))\n",
    "\n",
    "        ## plot the uu ##\n",
    "        axes[0,1].imshow(anomaly11)\n",
    "        axes[0,1].title.set_text(\"anomaly11(%d X %d) space\" %(anomaly11.shape[0],anomaly11.shape[1]))\n",
    "\n",
    "        ## plot the uu1 ##\n",
    "        axes[1,0].imshow(cov_matrix)\n",
    "        axes[1,0].title.set_text(\"cov_matrix (%d X %d)\" %(cov_matrix.shape[0],cov_matrix.shape[1]))\n",
    "\n",
    "        ## plot the lam ##\n",
    "        axes[1,1].imshow(D1)\n",
    "        axes[1,1].title.set_text(\"Diagonal matrix (%d X %d)\" %(D1.shape[0],D1.shape[1]))\n",
    "\n",
    "        ## plot the vv\n",
    "        axes[2,0].imshow(V)\n",
    "        axes[2,0].title.set_text(\"V (%d X %d) eofs\" %(V.shape[0],V.shape[1]))\n",
    "\n",
    "        ## plot POV ###\n",
    "        axes[2,1].bar(np.arange(varex_new.size),varex_new)\n",
    "        axes[2,1].title.set_text(\"POV \")\n",
    "\n",
    "        ## plot POV ###\n",
    "        axes[3,0].bar(np.arange(eofs.shape[0]),np.squeeze(np.asarray(eofs[:,0])))\n",
    "        axes[3,0].title.set_text(\"EOF1 \")\n",
    "\n",
    "        ## plot POV ###\n",
    "        axes[3,1].plot(pcs[:,0])\n",
    "        axes[3,1].title.set_text(\"PC1 \") \n",
    "    \n",
    "    return anomaly11,eofs,pcs,varex_new"
   ]
  },
  {
   "cell_type": "markdown",
   "metadata": {},
   "source": [
    "## Example a be a matrix with M observation and N points"
   ]
  },
  {
   "cell_type": "code",
   "execution_count": 29,
   "metadata": {
    "ExecuteTime": {
     "end_time": "2019-07-18T06:21:06.881968Z",
     "start_time": "2019-07-18T06:21:06.879742Z"
    }
   },
   "outputs": [],
   "source": [
    "##  EXAMPLE DATA ###\n",
    "rand = np.random.randn(50, 8) "
   ]
  },
  {
   "cell_type": "markdown",
   "metadata": {},
   "source": [
    "### EOF through SVD"
   ]
  },
  {
   "cell_type": "code",
   "execution_count": 30,
   "metadata": {
    "ExecuteTime": {
     "end_time": "2019-07-18T06:21:07.936130Z",
     "start_time": "2019-07-18T06:21:07.233660Z"
    }
   },
   "outputs": [
    {
     "data": {
      "image/png": "[encoded data removed]",
      "text/plain": [
       "<Figure size 432x288 with 9 Axes>"
      ]
     },
     "metadata": {
      "needs_background": "light"
     },
     "output_type": "display_data"
    }
   ],
   "source": [
    "#### PLOT ##############\n",
    "eofs,lam,pcs,uu,ss1,vv,lam1=eoffast_svd(rand,scale=False,plot=True)\n",
    "# plt.plot(pcs[:,0])"
   ]
  },
  {
   "cell_type": "markdown",
   "metadata": {},
   "source": [
    "### EOF through COV matrix"
   ]
  },
  {
   "cell_type": "code",
   "execution_count": 32,
   "metadata": {
    "ExecuteTime": {
     "end_time": "2019-07-18T06:21:09.496033Z",
     "start_time": "2019-07-18T06:21:08.796994Z"
    }
   },
   "outputs": [
    {
     "data": {
      "image/png": "[encoded data removed]",
      "text/plain": [
       "<Figure size 432x288 with 8 Axes>"
      ]
     },
     "metadata": {
      "needs_background": "light"
     },
     "output_type": "display_data"
    }
   ],
   "source": [
    "####### PLOT ####################\n",
    "anomaly11,eofs,pcs,varex_new=eof_wrap_cov(rand,scale=False,plot=True)\n",
    "# plt.plot(pcs[:,0])"
   ]
  },
  {
   "cell_type": "markdown",
   "metadata": {},
   "source": [
    "## Rotated EOFs / Rotated PCA using normal VARIMAX ###"
   ]
  },
  {
   "cell_type": "code",
   "execution_count": 33,
   "metadata": {
    "ExecuteTime": {
     "end_time": "2019-07-18T06:21:09.575145Z",
     "start_time": "2019-07-18T06:21:09.555010Z"
    }
   },
   "outputs": [],
   "source": [
    "def eofrot_normal_varimax(z,ind,index,scale):\n",
    "    # Algorithm for eof rotation with the varimax method\n",
    "    # Inputs:\n",
    "    # z                                                           Data Matrix\n",
    "    # ind                                                         Index for domain\n",
    "    # index                                                       indeces of EOFs to be rotated\n",
    "    # Outputs:\n",
    "    # coef                                                        Cofficient for the rotated EOFs\n",
    "    # u                                                           Rotated Eof in ascending order\n",
    "    # varrotated                                                  Variance explained by rotated EOFs\n",
    "    \n",
    "    \n",
    "    # Compute all EOF of matrix  (MXN) and expand it for nmode modes\n",
    "    # Also returns nproj projection coefficients Z.T = N X M\n",
    "    ny           =  matrix.shape[0]\n",
    "    mat          =  np.matrix(matrix)\n",
    "    mean         =  mat.mean(0)\n",
    "    std          =  mat.std(0)\n",
    "    one          =  np.matrix(np.ones(ny,float))\n",
    "    mean_matrix  =  one.T*mean\n",
    "    std_matrix   =  one.T*std\n",
    "    anomaly11    =  mat-mean_matrix                         # Anomaly at each space points\n",
    "    anomaly22    =  anomaly11/std                           # standarized anomaly at each space points\n",
    "\n",
    "    if scale:\n",
    "        z        =  anomaly22                               # SVD on only anomaly matrix (not scaled)\n",
    "    else:\n",
    "        z        =  anomaly11\n",
    "\n",
    "    \n",
    "    \n",
    "    z1=z.T\n",
    "\n",
    "    uneof,ss,vneof  =  np.linalg.svd(z1)                    # uu(N X N) ss(N X N) vv(M X M)\n",
    "    npoints,ntime   =  np.shape(z1);                         # Time and space points \n",
    "    totvar          =  np.sum(np.diag(np.square(ss)))        # Unrotated EOF for variance\n",
    "    lding           =  uneof[:,index];  \n",
    "\n",
    "    sl              = np.square(ss[index]);                             \n",
    "    varexpl         = np.sum(sl)/totvar;                        #  Relative variance explained by the unrotated modes \n",
    "    [n,nf]=np.shape(lding);\n",
    "\n",
    "    ##\n",
    "    # b=lding*1;\n",
    "\n",
    "    hl=lding*(np.diag(sl))\n",
    "    hjsq=np.diag(hl*hl.T)\n",
    "    hj=np.sqrt(hjsq)                                               # %Normalize by the communalities\n",
    "\n",
    "    bh=lding/(np.asmatrix(hj).T*np.ones((1,nf)));\n",
    "\n",
    "    Vtemp=n*np.sum(np.sum(np.power(bh,4),axis=0))-np.sum(np.square(np.sum(np.square(bh),axis=0)));       \n",
    "    #Vtemp=n*sum(sum(bh.ˆ4))-sum(sum(bh.ˆ2).ˆ2);                    % VARIMAX functional\n",
    "\n",
    "    # % VARIMAX functional\n",
    "                       # % VARIMAX functional\n",
    "    # np.sum(np.square(np.sum(np.square(bh),axis=0)))\n",
    "\n",
    "    V0=Vtemp*1\n",
    "    lding1=np.asarray(lding)\n",
    "    b=lding1*1\n",
    "\n",
    "    for it in range(10):                                          #% Number of iterations\n",
    "        for i in np.arange(nf-1):                                               #  % Program cycles through 2 factors\n",
    "            for j in np.arange(i+1,nf):\n",
    "\n",
    "                xj=np.divide(lding1[:,i],hj)                                             #% notation here closely\n",
    "                yj=np.divide(lding1[:,j],hj)\n",
    "                uj=np.multiply(xj,xj)-np.multiply(yj,yj)\n",
    "                vj=2*np.multiply(xj,yj)\n",
    "                A=np.sum(uj);\n",
    "                B=np.sum(vj); C=np.sum(uj.T*uj-vj.T*vj)\n",
    "                D=2*np.sum(uj.T*vj);\n",
    "                num=D-2*A*B/n;\n",
    "                den=C-(np.square(A)-np.square(B))/n;\n",
    "                tan4p=num/den;\n",
    "                phi=np.arctan2(num,den)/4; angle=phi*180/np.pi;\n",
    "\n",
    "                if np.abs(phi)> numpy.finfo(float).eps:\n",
    "                    Xj=np.multiply(np.cos(phi),xj)+np.multiply(np.sin(phi),yj); Yj=-np.sin(phi)*xj+np.cos(phi)*yj;\n",
    "                    bj1=np.multiply(Xj,hj);\n",
    "                    bj2=np.multiply(Yj,hj);\n",
    "                    b[:,i]=bj1;\n",
    "                    b[:,j]=bj2;\n",
    "                    lding1[:,i]=b[:,i];\n",
    "                    lding1[:,j]=b[:,j];\n",
    "\n",
    "        lding1=b*1;\n",
    "        bh=lding1/(np.asmatrix(hj).T*np.ones((1,nf)));\n",
    "        Vtemp=n*np.sum(np.sum(np.power(bh,4),axis=0))-np.sum(np.square(np.sum(np.square(bh),axis=0)))       \n",
    "        V=Vtemp\n",
    "        if abs(V-V0)<.0001:\n",
    "            break\n",
    "        else:\n",
    "            V0=V\n",
    "\n",
    "        for i in np.arange(nf):                                           #% Reflect vectors with negative sums\n",
    "            if np.sum(lding1[:,i]) < 0:\n",
    "                lding1[:,i] = -lding1[:,i];\n",
    "\n",
    "\n",
    "\n",
    "    Arot=lding1 ;                                           # % rotated eof\n",
    "    coef=z1.T*Arot[:,0:nf];#% time series for rotated eof\n",
    "    varex=np.zeros(nf)\n",
    "    for i in np.arange(nf):\n",
    "        varex[i] = np.sum(np.var((coef[:,i]*Arot[:,i].T),axis=0,ddof=1)*(ntime-1))\n",
    "\n",
    "\n",
    "\n",
    "    varexplrot = np.sum(varex)/totvar; zvar=np.sum(np.var(z.T)*(ntime-1));\n",
    "    I=np.argsort(varex)#% Sort in decreasing order of variance\n",
    "    varex=np.sort(varex);\n",
    "    Arot=Arot[:,I];\n",
    "    Arot = np.fliplr(Arot); varex = np.flipud(varex.T);\n",
    "    varunrotated = sl/totvar;\n",
    "    varrotated   = varex/totvar;\n",
    "    u=np.zeros((np.shape(z1)[0],nf));\n",
    "    u[ind,0:nf] = Arot[:,0:nf]; \n",
    "\n",
    "    \n",
    "    return coef,u,varrotated,varunrotated,Arot"
   ]
  },
  {
   "cell_type": "markdown",
   "metadata": {},
   "source": [
    "## Rotated EOFs / Rotated PCA using regular VARIMAX ###"
   ]
  },
  {
   "cell_type": "code",
   "execution_count": 34,
   "metadata": {
    "ExecuteTime": {
     "end_time": "2019-07-18T06:21:09.691902Z",
     "start_time": "2019-07-18T06:21:09.637124Z"
    }
   },
   "outputs": [],
   "source": [
    "def eof_rot_varimax(Phi, gamma = 1.0, q = 20, tol = 1e-6):\n",
    "    from scipy import eye, asarray, dot, sum\n",
    "    p,k = Phi.shape\n",
    "    R = eye(k)\n",
    "    d=0\n",
    "    for i in np.arange(q):\n",
    "        d_old = d\n",
    "        Lambda = dot(Phi, R)\n",
    "        u,s,vh = np.linalg.svd(dot(Phi.T,asarray(Lambda)**3 - (gamma/p) * dot(Lambda, np.diag(np.diag(dot(Lambda.T,Lambda))))))\n",
    "        R = dot(u,vh)\n",
    "        d = sum(s)\n",
    "        if d_old!=0 and d/d_old < 1 + tol: break\n",
    "    rot_eof = dot(Phi, R)\n",
    "    return rot_eof"
   ]
  },
  {
   "cell_type": "markdown",
   "metadata": {},
   "source": [
    "## Example with a MJO matrix data"
   ]
  },
  {
   "cell_type": "code",
   "execution_count": 35,
   "metadata": {
    "ExecuteTime": {
     "end_time": "2019-07-18T06:21:09.791190Z",
     "start_time": "2019-07-18T06:21:09.751904Z"
    }
   },
   "outputs": [
    {
     "data": {
      "text/plain": [
       "(35, 8)"
      ]
     },
     "execution_count": 35,
     "metadata": {},
     "output_type": "execute_result"
    }
   ],
   "source": [
    "import scipy.io\n",
    "a = scipy.io.loadmat('X.mat')\n",
    "a1=a['X']\n",
    "a1.shape\n",
    "# np.savetxt('test.csv', a1, delimiter=',') \n",
    "# f = open('file.txt', 'wb')\n",
    "# for i in range(a1.shape[0]):\n",
    "#     for j in range(a1.shape[1]):\n",
    "#         f.write(\"%3.12f \\t\" %a1[i,j])\n",
    "#     f.write(\"\\n\")\n",
    "# f.close()\n"
   ]
  },
  {
   "cell_type": "markdown",
   "metadata": {},
   "source": [
    "### EOF analysis and rotated EOF"
   ]
  },
  {
   "cell_type": "code",
   "execution_count": 46,
   "metadata": {
    "ExecuteTime": {
     "end_time": "2019-07-18T06:44:55.710081Z",
     "start_time": "2019-07-18T06:44:55.423881Z"
    }
   },
   "outputs": [
    {
     "data": {
      "text/plain": [
       "<BarContainer object of 8 artists>"
      ]
     },
     "execution_count": 46,
     "metadata": {},
     "output_type": "execute_result"
    },
    {
     "data": {
      "image/png": "[encoded data removed]",
      "text/plain": [
       "<Figure size 432x288 with 3 Axes>"
      ]
     },
     "metadata": {
      "needs_background": "light"
     },
     "output_type": "display_data"
    }
   ],
   "source": [
    "anomaly11,eofs1,pcs,varex_new=eof_wrap_cov(a1,scale=False,plot=False)\n",
    "eofs2,lam,pcs,uu,ss1,vv,lam1=eoffast_svd(a1,scale=False,plot=False)\n",
    "rot=eof_rot_varimax(eofs[:,0:5])\n",
    "plt.subplot(221)\n",
    "plt.bar(np.arange(1,9,1),np.squeeze(np.asarray(eofs1[:,0])))\n",
    "plt.subplot(222)\n",
    "plt.bar(np.arange(1,9,1),np.squeeze(np.asarray(eofs2[:,0])))\n",
    "plt.subplot(223)\n",
    "plt.bar(np.arange(1,9,1),np.squeeze(np.asarray(rot[:,0])))"
   ]
  },
  {
   "cell_type": "code",
   "execution_count": 60,
   "metadata": {
    "ExecuteTime": {
     "end_time": "2019-07-18T06:57:01.961799Z",
     "start_time": "2019-07-18T06:57:01.959437Z"
    }
   },
   "outputs": [],
   "source": [
    "# from factor_analyzer.factor_analyzer import calculate_kmo\n",
    "# from factor_analyzer.factor_analyzer import calculate_bartlett_sphericity\n",
    "# import pandas as pd\n",
    "# df= pd.DataFrame(eofs,columns=['EOF1','EOF2','EOF3','EOF4','EOF5','EOF6','EOF7','EOF8'])\n",
    "# chi_square_value,p_value=calculate_bartlett_sphericity(df)\n",
    "# chi_square_value, p_value\n"
   ]
  },
  {
   "cell_type": "code",
   "execution_count": 61,
   "metadata": {
    "ExecuteTime": {
     "end_time": "2019-07-18T06:57:02.127926Z",
     "start_time": "2019-07-18T06:57:02.125869Z"
    }
   },
   "outputs": [],
   "source": [
    "# from factor_analyzer import FactorAnalyzer,Rotator\n",
    "# fa = FactorAnalyzer(rotation=\"varimax\")\n",
    "# fa.fit(df,6)\n",
    "# rotator = Rotator()\n",
    "# rotator.fit(fa.loadings_)\n",
    "# rotator.loadings_"
   ]
  },
  {
   "cell_type": "code",
   "execution_count": null,
   "metadata": {},
   "outputs": [],
   "source": []
  },
  {
   "cell_type": "code",
   "execution_count": null,
   "metadata": {},
   "outputs": [],
   "source": []
  }
 ],
 "metadata": {
  "hide_input": false,
  "kernelspec": {
   "display_name": "Python 3",
   "language": "python",
   "name": "python3"
  },
  "language_info": {
   "codemirror_mode": {
    "name": "ipython",
    "version": 3
   },
   "file_extension": ".py",
   "mimetype": "text/x-python",
   "name": "python",
   "nbconvert_exporter": "python",
   "pygments_lexer": "ipython3",
   "version": "3.6.8"
  },
  "toc": {
   "base_numbering": 1,
   "nav_menu": {
    "height": "12px",
    "width": "160px"
   },
   "number_sections": true,
   "sideBar": true,
   "skip_h1_title": false,
   "title_cell": "Table of Contents",
   "title_sidebar": "Contents",
   "toc_cell": false,
   "toc_position": {
    "height": "calc(100% - 180px)",
    "left": "10px",
    "top": "150px",
    "width": "259.8px"
   },
   "toc_section_display": true,
   "toc_window_display": true
  },
  "varInspector": {
   "cols": {
    "lenName": 16,
    "lenType": 16,
    "lenVar": 40
   },
   "kernels_config": {
    "python": {
     "delete_cmd_postfix": "",
     "delete_cmd_prefix": "del ",
     "library": "var_list.py",
     "varRefreshCmd": "print(var_dic_list())"
    },
    "r": {
     "delete_cmd_postfix": ") ",
     "delete_cmd_prefix": "rm(",
     "library": "var_list.r",
     "varRefreshCmd": "cat(var_dic_list()) "
    }
   },
   "types_to_exclude": [
    "module",
    "function",
    "builtin_function_or_method",
    "instance",
    "_Feature"
   ],
   "window_display": false
  }
 },
 "nbformat": 4,
 "nbformat_minor": 2
}

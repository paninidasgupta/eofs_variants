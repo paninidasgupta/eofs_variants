{
 "cells": [
  {
   "cell_type": "code",
   "execution_count": 1,
   "metadata": {},
   "outputs": [
    {
     "name": "stdout",
     "output_type": "stream",
     "text": [
      "Variable: x (subsection)\n",
      "Type: float\n",
      "Total Size: 4 bytes\n",
      "            1 values\n",
      "Number of Dimensions: 1\n",
      "Dimensions and sizes:\t[1]\n",
      "Coordinates: \n",
      "Number Of Attributes: 1\n",
      "  _FillValue :\t9.96921e+36\n",
      "(0)\t-12.02857Variable: ev_cor\n",
      "Type: float\n",
      "Total Size: 160 bytes\n",
      "            40 values\n",
      "Number of Dimensions: 2\n",
      "Dimensions and sizes:\t[5] x [8]\n",
      "Coordinates: \n",
      "Number Of Attributes: 5\n",
      "  _FillValue :\t9.96921e+36\n",
      "  method :\tno transpose\n",
      "  matrix :\tcovariance\n",
      "  pcvar :\t( 22.26994, 20.25552, 15.39272, 12.70954, 10.11429 )\n",
      "  eval :\t( 80.19275, 72.93893, 55.42827, 45.76629, 36.42096 )"
     ]
    }
   ],
   "source": [
    "infile = \"test.csv\"\n",
    "lines  = asciiread (infile, -1, \"float\")  ; -1 means read whole file\n",
    ";print(lines)                               ; echo input\n",
    "x  = reshape(lines,(/35,8/))\n",
    "print(x(0,2))\n",
    "z=transpose(x)\n",
    "neval  = 5           \n",
    "option      = True\n",
    "option@jopt = 0                  ; use correlation matrix\n",
    "ev_cor = eofunc(z,neval,option); calculate 3 EOFs out of 7 \n",
    "ev_rot = eof_varimax(ev_cor)\n",
    "printVarSummary(ev_cor)\n"
   ]
  },
  {
   "cell_type": "code",
   "execution_count": 8,
   "metadata": {},
   "outputs": [
    {
     "name": "stdout",
     "output_type": "stream",
     "text": [
      "Variable: ev_rot\n",
      "Type: float\n",
      "Total Size: 160 bytes\n",
      "            40 values\n",
      "Number of Dimensions: 2\n",
      "Dimensions and sizes:\t[5] x [8]\n",
      "Coordinates: \n",
      "Number Of Attributes: 1\n",
      "  pcvar_varimax :\t( 12.5, 12.5, 12.5, 12.5, 12.5 )"
     ]
    }
   ],
   "source": [
    "printVarSummary(ev_rot)\n",
    "wks   = gsn_open_wks (\"png\", \"bar\" )  ; send graphics to PNG file\n",
    "res   = True\n",
    "res@gsnScale = True               \n",
    "phase = (/1,2,3,4,5,6,7,8/)\n",
    "res@trYMinF   = -1.0            ; min value on y-axis\n",
    "res@trYMaxF   =  1.0            ; max value on y-axis\n",
    "\n",
    "res@gsnXYBarChart         = True            ; create bar chart \n",
    "\n",
    "\n",
    "; this resource changes a regular line plot to a bar chart\n",
    "res@gsnXYBarChart         = True ; create bar chart \n",
    "; this resource is required to get bars above and below a reference line\n",
    "res@gsnYRefLine           = 0. ; reference line  \n",
    "\n",
    "; these resources control the patterns of the bars above and below\n",
    "; the reference line. \n",
    "res@gsnAboveYRefLineColor       = \"red\"    ; default is black    \n",
    "res@gsnBelowYRefLineColor       = \"blue\"   ; default is black\n",
    "\n",
    "plot=gsn_csm_xy (wks,phase,ev_rot(4,:),res)\n",
    "\n"
   ]
  },
  {
   "cell_type": "code",
   "execution_count": 9,
   "metadata": {},
   "outputs": [
    {
     "name": "stdout",
     "output_type": "stream",
     "text": [
      "Variable: ev_rot\n",
      "Type: float\n",
      "Total Size: 160 bytes\n",
      "            40 values\n",
      "Number of Dimensions: 2\n",
      "Dimensions and sizes:\t[5] x [8]\n",
      "Coordinates: \n",
      "Number Of Attributes: 1\n",
      "  pcvar_varimax :\t( 12.5, 12.5, 12.5, 12.5, 12.5 )"
     ]
    }
   ],
   "source": [
    "printVarSummary(ev_rot)"
   ]
  },
  {
   "cell_type": "code",
   "execution_count": null,
   "metadata": {},
   "outputs": [],
   "source": []
  }
 ],
 "metadata": {
  "kernelspec": {
   "display_name": "NCL",
   "language": "ncl",
   "name": "ncl_kernel"
  },
  "language_info": {
   "file_extension": ".ncl",
   "mimetype": "text/plain",
   "name": "ncl"
  }
 },
 "nbformat": 4,
 "nbformat_minor": 2
}
